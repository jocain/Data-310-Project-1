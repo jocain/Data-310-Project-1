{
  "cells": [
    {
      "cell_type": "markdown",
      "metadata": {
        "id": "view-in-github",
        "colab_type": "text"
      },
      "source": [
        "<a href=\"https://colab.research.google.com/github/jocain/Data-444-Project-1/blob/main/Boston_Housing_Locally_Weighted_Regression.ipynb\" target=\"_parent\"><img src=\"https://colab.research.google.com/assets/colab-badge.svg\" alt=\"Open In Colab\"/></a>"
      ]
    },
    {
      "cell_type": "markdown",
      "metadata": {
        "id": "gokAAmYWhaQS"
      },
      "source": [
        "# Boston Housing Price Prediction Using Locally Weighted Regression\n",
        "\n",
        "## Joshua O'Cain"
      ]
    },
    {
      "cell_type": "markdown",
      "source": [
        "In this experiment, we will test the validity of Locally Weighted Regression by comparing the method to Random Forrest Regression using the Boston Housing Dataset. \n"
      ],
      "metadata": {
        "id": "98ClU9UxWrVO"
      }
    },
    {
      "cell_type": "code",
      "source": [
        "%%shell jupyter nbconvert --to html Boston Housing Locally Weighted Regression.ipynb\n"
      ],
      "metadata": {
        "colab": {
          "base_uri": "https://localhost:8080/"
        },
        "id": "sSXON9GYCLOz",
        "outputId": "6738a9f1-efbe-43f5-f80d-24f86176da07"
      },
      "execution_count": 1,
      "outputs": [
        {
          "output_type": "stream",
          "name": "stderr",
          "text": [
            "UsageError: %%shell is a cell magic, but the cell body is empty. Did you mean the line magic %shell (single %)?\n"
          ]
        }
      ]
    },
    {
      "cell_type": "code",
      "execution_count": null,
      "metadata": {
        "id": "x8t8wyFvhaQZ"
      },
      "outputs": [],
      "source": [
        "#Standard Imports\n",
        "import numpy as np\n",
        "import pandas as pd\n",
        "from math import ceil\n",
        "from scipy import linalg\n",
        "from scipy.interpolate import interp1d, LinearNDInterpolator\n",
        "import matplotlib.pyplot as plt\n",
        "\n",
        "# Sklearn \n",
        "from sklearn.ensemble import RandomForestRegressor\n",
        "from sklearn.model_selection import KFold, train_test_split as tts\n",
        "from sklearn.metrics import mean_squared_error as mse\n",
        "from sklearn.preprocessing import StandardScaler"
      ]
    },
    {
      "cell_type": "code",
      "source": [
        "from google.colab import drive\n",
        "drive.mount('/content/drive')"
      ],
      "metadata": {
        "colab": {
          "base_uri": "https://localhost:8080/"
        },
        "id": "7miCdDOUofSy",
        "outputId": "99f3bbf9-5fb9-44e7-d74b-f73ec2793b42"
      },
      "execution_count": null,
      "outputs": [
        {
          "output_type": "stream",
          "name": "stdout",
          "text": [
            "Drive already mounted at /content/drive; to attempt to forcibly remount, call drive.mount(\"/content/drive\", force_remount=True).\n"
          ]
        }
      ]
    },
    {
      "cell_type": "markdown",
      "source": [
        "## Locally Weighted Regression"
      ],
      "metadata": {
        "id": "jeflMU8GAAjF"
      }
    },
    {
      "cell_type": "markdown",
      "metadata": {
        "id": "VhwWLvzhhaQX"
      },
      "source": [
        "Traditional Linear Regression assumes the following model:\n",
        "\n",
        "$$\\large y = X\\cdot\\beta +\\sigma\\epsilon $$\n",
        "\n",
        "In this model, we have some matrix of features $X$ that corralates linearly with a correspoding list of targets $y$ via the vector of coefficients $\\beta$. The model assumes some random noise represented by the normal random variable $\\epsilon$ scaled by the noise standard deviation vector $\\sigma$. To solve for the coefficents $\\beta$, we can begin by mulitplying through Equation 1 with the transpose of $X$, $X^T$:\n",
        "\n",
        "$$\\large  X^Ty = X^TX\\beta +\\sigma X^T\\epsilon.$$\n",
        "\n",
        "Assuming $X^TX$ is invertible, we can then rearrange the equation and say\n",
        "\n",
        "$$\\large \\beta = (X^TX)^{-1}(X^Ty) - \\sigma (X^TX)^{-1}X^T\\epsilon.$$\n",
        "\n",
        "We now have the coefficients vector $\\beta$ as the sum of a linear combination of the observed values and some scaled random noise. Consequentially, the expected value of $\\beta$ is \n",
        "\n",
        "$$\\large \\bar{\\beta} = (X^TX)^{-1}X^Ty $$\n",
        "\n",
        "and the predictions of the model $\\hat{y}$ are \n",
        "\n",
        "$$\\large \\hat{y} = X(X^TX)^{-1}X^Ty. $$\n",
        "\n",
        "While this model can work very well in a broad range of applications, there are many situations where relationships are non linear. Locally Weighted Regression uses data points near (local to) a region of interest to make predictions. The result is a model can recognize broad linear trends and that can be adjusted to local distinctions in the data. Locality, in this implementation, is defined by the Euclidean distance between observations. In the features matrix $X$, the row vectors represent individual observations. Therefore, for two row vectors $\\vec{v}$ and $\\vec{v}$ with $p$ dimensions, the Euclidean distance $d$ is the following:\n",
        "\n",
        "$$\\large d_{(\\vec{v},\\vec{w})}=\\sqrt{(v_1-w_1)^2+(v_2-w_2)^2+...(v_p-w_p)^2}$$\n",
        "\n",
        "For $n$ observations, each vector will have $n$ corresponding distances. We can therefore create a distance-dependent weighting square matrix $W_k$ for an $k$th observation. $W_k$ has a side length $n$, where the weights occupy the diagonal of the matrix (i.e. $W_{11}$, $W_{22}$, for matrix element $W_{ij}$ of row $i$ and column $j$). All of the rest of the elements are 0. To apply this fix, we multiply $W_kX^T$ through Equation 1 instead of just $X^T$:\n",
        "\n",
        "$$\\large W_ky = W_kX\\cdot\\beta +\\sigma W_k\\epsilon. $$\n",
        "\n",
        "The new expected value of $\\beta$ becomes \n",
        "\n",
        "$$\\large \\bar{\\beta} = (X^TW_kX)^{-1}X^TW_ky$$\n",
        "\n",
        "and the new predictions are\n",
        "\n",
        "$$\\large \\hat{y} = X(X^TW_kX)^{-1}X^TW_ky.$$\n",
        "\n",
        "A version of Locally Weighted Regressor Function is inplemented below, using the scipy linalg and interpolate packages to facilitate the linear algebra and data interpolation, respectively. "
      ]
    },
    {
      "cell_type": "code",
      "source": [
        "# Locally Weighted Regession Model\n",
        "def lowess_reg(x, y, xnew, kern, tau, intercept = False):\n",
        "  if len(x.shape)==1:\n",
        "    x = x.reshape(-1,1) \n",
        "    interpolator = interp1d\n",
        "  else:\n",
        "    interpolator = LinearNDInterpolator\n",
        "  print(x)\n",
        "  n = len(y) \n",
        "  if intercept:\n",
        "    x = np.column_stack([np.ones(n),x])\n",
        "  else:\n",
        "    x = x\n",
        "  yest = np.zeros(len(y))\n",
        "  for i in range(n):\n",
        "    weights = kern((x-x[i])/(2*tau))\n",
        "    W = np.diag(weights)\n",
        "    b = W.dot(y)\n",
        "    A = W.dot(x)\n",
        "    beta, res, rnk, s = linalg.lstsq(A,b)\n",
        "    yest[i] = np.dot(x[i],beta)\n",
        "  f = interpolator(x, yest)\n",
        "  return f(xnew)\n",
        "\n",
        "def lowess_reg(x, y, xnew, kern, tau):\n",
        "    # tau is called bandwidth K((x-x[i])/(2*tau))\n",
        "    # IMPORTANT: we expect x to the sorted increasingly\n",
        "    n = len(x)\n",
        "    yest = np.zeros(n)\n",
        "\n",
        "    #Initializing all weights from the bell shape kernel function    \n",
        "    w = np.array([kern((x - x[i])/(2*tau)) for i in range(n)])     \n",
        "    \n",
        "    #Looping through all x-points\n",
        "    for i in range(n):\n",
        "        weights = w[:, i]\n",
        "        b = np.array([np.sum(weights * y), np.sum(weights * y * x)])\n",
        "        A = np.array([[np.sum(weights), np.sum(weights * x)],\n",
        "                    [np.sum(weights * x), np.sum(weights * x * x)]])\n",
        "        #theta = linalg.solve(A, b) # A*theta = b\n",
        "        theta, res, rnk, s = linalg.lstsq(A, b)\n",
        "        yest[i] = theta[0] + theta[1] * x[i] \n",
        "    f = interp1d(x, yest,fill_value='extrapolate')\n",
        "    return f(xnew)"
      ],
      "metadata": {
        "id": "FZdM0Y0isreT"
      },
      "execution_count": null,
      "outputs": []
    },
    {
      "cell_type": "markdown",
      "source": [
        "Note that this implementation includes three hyperparameters not yet mentioned: intercept, kern, and $\\tau$ (tau). In the linear model used above, the targets are assumed to have no offset and be centered around 0. If this is not the case, the fix is not particularly difficult - a column vector of value 1 is added to the features matrix. As a result, the predictions will produce the form \n",
        "\n",
        "$$\\large \\hat{y} = \\beta_0x_0 + \\beta_1x_1 + ... + \\beta_nx_n + \\beta_{n+1}(1),$$\n",
        "\n",
        "generating the needed offset. \n",
        "\n",
        "kern refers to the kernel used for the model, or the specific function used for weighting. A few possible kernels exist for Locally Weighted Regression models. The Tricubic kernel is the most common:\n",
        "\n",
        "$$W_{nn} = \\frac{70}{81}(1 - d^3)^3$$\n",
        "\n",
        "In this equation, $d$ is the Euclidean distance. The Tricubic, Quartic, and Epanechnikov kernels are implemented below, and a graph comparing how the weights drop off with distance is shown below. Note that all of the kernels are valid for $0 < d < 1$. Outside of that range, $W_{nn} = 0$."
      ],
      "metadata": {
        "id": "l4ZvOYOWtqLx"
      }
    },
    {
      "cell_type": "code",
      "execution_count": null,
      "metadata": {
        "id": "1BKU6xGDhaQb"
      },
      "outputs": [],
      "source": [
        "# Locally Weighted Regession Functions\n",
        "\n",
        "# Kernels\n",
        "def tricubic(x):\n",
        "    if len(x.shape) == 1:\n",
        "        x = x.reshape(-1, 1)\n",
        "    d = np.sqrt(np.sum(x, axis = 1)**2)\n",
        "    return np.where(d>1,0,70/81*(1-d**3)**3)\n",
        "\n",
        "def Epanechnikov(x):\n",
        "    if len(x.shape) == 1:\n",
        "        x = x.reshape(-1, 1)\n",
        "    d = np.sqrt(np.sum(x, axis = 1)**2)\n",
        "    return np.where(d>1,0,3/4*(1-d**2))\n",
        "\n",
        "def Quartic(x):\n",
        "    if len(x.shape) == 1:\n",
        "        x = x.reshape(-1, 1)\n",
        "    d = np.sqrt(np.sum(x, axis = 1)**2)\n",
        "    return np.where(d>1,0,15/16*(1-d**2)**2) \n"
      ]
    },
    {
      "cell_type": "code",
      "execution_count": null,
      "metadata": {
        "colab": {
          "base_uri": "https://localhost:8080/",
          "height": 295
        },
        "id": "ALpAc_EFhaQc",
        "outputId": "34698ca5-f9cf-4e3f-9fc0-1373149a8b57"
      },
      "outputs": [
        {
          "output_type": "display_data",
          "data": {
            "image/png": "[encoded data removed]",
            "text/plain": [
              "<Figure size 432x288 with 1 Axes>"
            ]
          },
          "metadata": {
            "needs_background": "light"
          }
        }
      ],
      "source": [
        "# Comparison of How Each Kernel Weights the Data\n",
        "x = np.arange(0, 1.05, 0.05).reshape(-1, 1)\n",
        "plt.plot(x, tricubic(x), label = 'Tricubic')\n",
        "plt.plot(x, Epanechnikov(x), label = 'Epanechnikov')\n",
        "plt.plot(x, Quartic(x), label = 'Quartic')\n",
        "plt.legend()\n",
        "plt.title('Comparison of Kernels')\n",
        "plt.ylabel('Weight')\n",
        "plt.xlabel('Euclidean Distance')\n",
        "plt.show()"
      ]
    },
    {
      "cell_type": "markdown",
      "source": [
        "Finally, hyperparameter $\\tau$ the range defined to be \"local\" in the weighting matrix. $\\tau$ is used to scale the Euclidean distance $d$ to $d' = d/(2\\tau)$, increasing or decreasing the range of the kernel. In practice, this can affect the smoothness of the predictions. The effect of adjusting $\\tau$, and an example of Locally Weighted Regression, is shown below, on a data set containing linear and sinusoidal components. The tricubic kernel is used.\n"
      ],
      "metadata": {
        "id": "rdUkWqPUz8qD"
      }
    },
    {
      "cell_type": "code",
      "source": [
        "x = np.random.uniform(0, 12, 100)\n",
        "y = np.sin(x) + x/12 + np.random.normal(loc=0,scale=.5,size=100)\n",
        "xnew = np.arange(0, 12, 0.05)\n",
        "\n",
        "yhat1 = lowess_reg(x, y, xnew, tricubic, 0.5)\n",
        "yhat2 = lowess_reg(x, y, xnew, tricubic, 2)\n",
        "\n",
        "plt.figure(figsize = (9, 8))\n",
        "plt.plot(x, y, 'o', label = 'Data')\n",
        "plt.plot(xnew, yhat1, label = r'$\\tau = 1/10$')\n",
        "plt.plot(xnew, yhat2, label = r'$\\tau = 10$')\n",
        "plt.xlabel('x')\n",
        "plt.ylabel('y')\n",
        "plt.legend()\n",
        "plt.show()"
      ],
      "metadata": {
        "colab": {
          "base_uri": "https://localhost:8080/",
          "height": 497
        },
        "id": "DgR0rbOGd3Zk",
        "outputId": "1d616bd8-ea0f-4c6f-92ff-a7317c525681"
      },
      "execution_count": null,
      "outputs": [
        {
          "output_type": "display_data",
          "data": {
            "image/png": "[encoded data removed]",
            "text/plain": [
              "<Figure size 648x576 with 1 Axes>"
            ]
          },
          "metadata": {
            "needs_background": "light"
          }
        }
      ]
    },
    {
      "cell_type": "markdown",
      "source": [
        "## Random Forest Regression"
      ],
      "metadata": {
        "id": "S8NCSqO_bR8E"
      }
    },
    {
      "cell_type": "markdown",
      "source": [
        "Like we have asserted with Locally Weighted Regression, Random Forest Regression can be used in possibly nonlinear datasets. Random Forrest Regression is an ensemble method which combines a large series of smaller tree classifiers to make predictions. Prior to training, the data is bootstrapped, so each tree recieves only a small random sample of the data. During training, each tree creates paritions in the data by optimizing a quality called the impurity. Minimizing the impurity at every branch in a tree means shifting the partition in a way that decreases the predictive error. By aggregating the predictions of all of the trees, this type of model can be very useful in both classification and regression regimes. An issue that is particularly dangerous in Random Forest Regression models is a runaway tree depth. Regression is generally reserved for continuous data, where an infinite number of partitions can be drawn, resulting in trees that grow beyond a useful depth. This can result in extremely computationally intensive models, and is a common cause of model overfitting. To prevent this, we will limit the tree depth to 3 in this experiment. An example of a Random Forest Regression is shown below, using 150 trees, applied to the sinusoidal data generated above. "
      ],
      "metadata": {
        "id": "sGGVV5HzbRK1"
      }
    },
    {
      "cell_type": "code",
      "source": [
        "rf1 = RandomForestRegressor(n_estimators=10,max_depth=3)\n",
        "rf2 = RandomForestRegressor(n_estimators=100,max_depth=3)\n",
        "\n",
        "rf1.fit(x.reshape(-1, 1), y)\n",
        "rf2.fit(x.reshape(-1, 1), y)\n",
        "\n",
        "\n",
        "yhat3 = rf1.predict(xnew.reshape(-1, 1))\n",
        "yhat4 = rf2.predict(xnew.reshape(-1, 1))\n",
        "\n",
        "\n",
        "plt.figure(figsize = (9, 8))\n",
        "plt.plot(x, y, 'o', label = 'Data')\n",
        "plt.plot(xnew, yhat4, label = r'5 Trees')\n",
        "plt.plot(xnew, yhat3, label = r'10 Trees')\n",
        "plt.xlabel('x')\n",
        "plt.ylabel('y')\n",
        "plt.legend()\n",
        "plt.show()"
      ],
      "metadata": {
        "colab": {
          "base_uri": "https://localhost:8080/",
          "height": 497
        },
        "id": "U-iJ3g0ZbBkG",
        "outputId": "a683b639-5c27-4f10-dc9b-6bb1ac9d3644"
      },
      "execution_count": null,
      "outputs": [
        {
          "output_type": "display_data",
          "data": {
            "image/png": "[encoded data removed]",
            "text/plain": [
              "<Figure size 648x576 with 1 Axes>"
            ]
          },
          "metadata": {
            "needs_background": "light"
          }
        }
      ]
    },
    {
      "cell_type": "markdown",
      "source": [
        "While both methods can resonably create predictions for this dataset, Locally Weighted Regression can have a number of model building advantages over Random Forest Regression. For example, though we are only focused on the number of trees for the Random Forest Regression model, there are a number of other possible hyperparameters to consider, including the minimum number of datapoints per tree split or the impurity function used. Locally Weighted Regression, in contrast, only has one. "
      ],
      "metadata": {
        "id": "e7GEPJFVleQh"
      }
    },
    {
      "cell_type": "markdown",
      "source": [
        "## Methods"
      ],
      "metadata": {
        "id": "tW76G8SfbcH0"
      }
    },
    {
      "cell_type": "markdown",
      "source": [
        "The objective of this experiement is to examine the predictive power of Locally Weighted Regression by comparing it to a much more well known and commonly used method, Random Forrest Regression. To do so, we will apply both methods to the Boston Housing Prices dataset. For this experiment, we will consider the number of rooms per house as the dependent variable. The target feature in this experiment will be median house price. To get an precise picture of the model predictive power, the models will undergo a K-Fold validation of 30 splits. For each split, the we will measure the mean squared error on the test set, which we will then average. The averaged MSE will be the statistic used to compare the final models. While a significant difference in the model errors would be definitive evidence towards evidence towards establishing whether a particular model is better, the goal is this project is to estabilsh that Locally Weighted Regression is at least viable. Therefore, viability will be established if the model can score a MSE below 110% of the best Random Forest Regression model. For example, if the best Random Forest Regression produces a MSE of 50, then the Locally Weighted Regression needs to score an MSE no higher than 50. To perform complete investigation of the models, we will generate and test Locally Weighted Regression models with $\\tau$ values of 0.01, 0.1, 1, and 10. Additionally, we will create and test Random Forest Regression models with 10, 50, 100, and 300 trees.  This process is implemented below. "
      ],
      "metadata": {
        "id": "GJnd6h4ibB-F"
      }
    },
    {
      "cell_type": "code",
      "source": [
        "#Reading in the Data\n",
        "df = pd.read_csv('/content/drive/MyDrive/DATA 410/Boston Housing Prices.csv')\n",
        "df.head()"
      ],
      "metadata": {
        "colab": {
          "base_uri": "https://localhost:8080/",
          "height": 270
        },
        "id": "RM1qcuUyoZWq",
        "outputId": "ca763a82-4335-4329-c70f-e4341087a069"
      },
      "execution_count": null,
      "outputs": [
        {
          "output_type": "execute_result",
          "data": {
            "text/html": [
              "\n",
              "  <div id=\"df-50a018a4-42d0-4cd8-89d4-b7114d8e520a\">\n",
              "    <div class=\"colab-df-container\">\n",
              "      <div>\n",
              "<style scoped>\n",
              "    .dataframe tbody tr th:only-of-type {\n",
              "        vertical-align: middle;\n",
              "    }\n",
              "\n",
              "    .dataframe tbody tr th {\n",
              "        vertical-align: top;\n",
              "    }\n",
              "\n",
              "    .dataframe thead th {\n",
              "        text-align: right;\n",
              "    }\n",
              "</style>\n",
              "<table border=\"1\" class=\"dataframe\">\n",
              "  <thead>\n",
              "    <tr style=\"text-align: right;\">\n",
              "      <th></th>\n",
              "      <th>town</th>\n",
              "      <th>tract</th>\n",
              "      <th>longitude</th>\n",
              "      <th>latitude</th>\n",
              "      <th>crime</th>\n",
              "      <th>residential</th>\n",
              "      <th>industrial</th>\n",
              "      <th>river</th>\n",
              "      <th>nox</th>\n",
              "      <th>rooms</th>\n",
              "      <th>older</th>\n",
              "      <th>distance</th>\n",
              "      <th>highway</th>\n",
              "      <th>tax</th>\n",
              "      <th>ptratio</th>\n",
              "      <th>lstat</th>\n",
              "      <th>cmedv</th>\n",
              "    </tr>\n",
              "  </thead>\n",
              "  <tbody>\n",
              "    <tr>\n",
              "      <th>0</th>\n",
              "      <td>Nahant</td>\n",
              "      <td>2011</td>\n",
              "      <td>-70.955002</td>\n",
              "      <td>42.255001</td>\n",
              "      <td>0.00632</td>\n",
              "      <td>18.0</td>\n",
              "      <td>2.31</td>\n",
              "      <td>no</td>\n",
              "      <td>0.538</td>\n",
              "      <td>6.575</td>\n",
              "      <td>65.199997</td>\n",
              "      <td>4.0900</td>\n",
              "      <td>1</td>\n",
              "      <td>296</td>\n",
              "      <td>15.300000</td>\n",
              "      <td>4.98</td>\n",
              "      <td>24.000000</td>\n",
              "    </tr>\n",
              "    <tr>\n",
              "      <th>1</th>\n",
              "      <td>Swampscott</td>\n",
              "      <td>2021</td>\n",
              "      <td>-70.949997</td>\n",
              "      <td>42.287498</td>\n",
              "      <td>0.02731</td>\n",
              "      <td>0.0</td>\n",
              "      <td>7.07</td>\n",
              "      <td>no</td>\n",
              "      <td>0.469</td>\n",
              "      <td>6.421</td>\n",
              "      <td>78.900002</td>\n",
              "      <td>4.9671</td>\n",
              "      <td>2</td>\n",
              "      <td>242</td>\n",
              "      <td>17.799999</td>\n",
              "      <td>9.14</td>\n",
              "      <td>21.600000</td>\n",
              "    </tr>\n",
              "    <tr>\n",
              "      <th>2</th>\n",
              "      <td>Swampscott</td>\n",
              "      <td>2022</td>\n",
              "      <td>-70.935997</td>\n",
              "      <td>42.283001</td>\n",
              "      <td>0.02729</td>\n",
              "      <td>0.0</td>\n",
              "      <td>7.07</td>\n",
              "      <td>no</td>\n",
              "      <td>0.469</td>\n",
              "      <td>7.185</td>\n",
              "      <td>61.099998</td>\n",
              "      <td>4.9671</td>\n",
              "      <td>2</td>\n",
              "      <td>242</td>\n",
              "      <td>17.799999</td>\n",
              "      <td>4.03</td>\n",
              "      <td>34.700001</td>\n",
              "    </tr>\n",
              "    <tr>\n",
              "      <th>3</th>\n",
              "      <td>Marblehead</td>\n",
              "      <td>2031</td>\n",
              "      <td>-70.928001</td>\n",
              "      <td>42.292999</td>\n",
              "      <td>0.03237</td>\n",
              "      <td>0.0</td>\n",
              "      <td>2.18</td>\n",
              "      <td>no</td>\n",
              "      <td>0.458</td>\n",
              "      <td>6.998</td>\n",
              "      <td>45.799999</td>\n",
              "      <td>6.0622</td>\n",
              "      <td>3</td>\n",
              "      <td>222</td>\n",
              "      <td>18.700001</td>\n",
              "      <td>2.94</td>\n",
              "      <td>33.400002</td>\n",
              "    </tr>\n",
              "    <tr>\n",
              "      <th>4</th>\n",
              "      <td>Marblehead</td>\n",
              "      <td>2032</td>\n",
              "      <td>-70.921997</td>\n",
              "      <td>42.298000</td>\n",
              "      <td>0.06905</td>\n",
              "      <td>0.0</td>\n",
              "      <td>2.18</td>\n",
              "      <td>no</td>\n",
              "      <td>0.458</td>\n",
              "      <td>7.147</td>\n",
              "      <td>54.200001</td>\n",
              "      <td>6.0622</td>\n",
              "      <td>3</td>\n",
              "      <td>222</td>\n",
              "      <td>18.700001</td>\n",
              "      <td>5.33</td>\n",
              "      <td>36.200001</td>\n",
              "    </tr>\n",
              "  </tbody>\n",
              "</table>\n",
              "</div>\n",
              "      <button class=\"colab-df-convert\" onclick=\"convertToInteractive('df-50a018a4-42d0-4cd8-89d4-b7114d8e520a')\"\n",
              "              title=\"Convert this dataframe to an interactive table.\"\n",
              "              style=\"display:none;\">\n",
              "        \n",
              "  <svg xmlns=\"http://www.w3.org/2000/svg\" height=\"24px\"viewBox=\"0 0 24 24\"\n",
              "       width=\"24px\">\n",
              "    <path d=\"M0 0h24v24H0V0z\" fill=\"none\"/>\n",
              "    <path d=\"M18.56 5.44l.94 2.06.94-2.06 2.06-.94-2.06-.94-.94-2.06-.94 2.06-2.06.94zm-11 1L8.5 8.5l.94-2.06 2.06-.94-2.06-.94L8.5 2.5l-.94 2.06-2.06.94zm10 10l.94 2.06.94-2.06 2.06-.94-2.06-.94-.94-2.06-.94 2.06-2.06.94z\"/><path d=\"M17.41 7.96l-1.37-1.37c-.4-.4-.92-.59-1.43-.59-.52 0-1.04.2-1.43.59L10.3 9.45l-7.72 7.72c-.78.78-.78 2.05 0 2.83L4 21.41c.39.39.9.59 1.41.59.51 0 1.02-.2 1.41-.59l7.78-7.78 2.81-2.81c.8-.78.8-2.07 0-2.86zM5.41 20L4 18.59l7.72-7.72 1.47 1.35L5.41 20z\"/>\n",
              "  </svg>\n",
              "      </button>\n",
              "      \n",
              "  <style>\n",
              "    .colab-df-container {\n",
              "      display:flex;\n",
              "      flex-wrap:wrap;\n",
              "      gap: 12px;\n",
              "    }\n",
              "\n",
              "    .colab-df-convert {\n",
              "      background-color: #E8F0FE;\n",
              "      border: none;\n",
              "      border-radius: 50%;\n",
              "      cursor: pointer;\n",
              "      display: none;\n",
              "      fill: #1967D2;\n",
              "      height: 32px;\n",
              "      padding: 0 0 0 0;\n",
              "      width: 32px;\n",
              "    }\n",
              "\n",
              "    .colab-df-convert:hover {\n",
              "      background-color: #E2EBFA;\n",
              "      box-shadow: 0px 1px 2px rgba(60, 64, 67, 0.3), 0px 1px 3px 1px rgba(60, 64, 67, 0.15);\n",
              "      fill: #174EA6;\n",
              "    }\n",
              "\n",
              "    [theme=dark] .colab-df-convert {\n",
              "      background-color: #3B4455;\n",
              "      fill: #D2E3FC;\n",
              "    }\n",
              "\n",
              "    [theme=dark] .colab-df-convert:hover {\n",
              "      background-color: #434B5C;\n",
              "      box-shadow: 0px 1px 3px 1px rgba(0, 0, 0, 0.15);\n",
              "      filter: drop-shadow(0px 1px 2px rgba(0, 0, 0, 0.3));\n",
              "      fill: #FFFFFF;\n",
              "    }\n",
              "  </style>\n",
              "\n",
              "      <script>\n",
              "        const buttonEl =\n",
              "          document.querySelector('#df-50a018a4-42d0-4cd8-89d4-b7114d8e520a button.colab-df-convert');\n",
              "        buttonEl.style.display =\n",
              "          google.colab.kernel.accessAllowed ? 'block' : 'none';\n",
              "\n",
              "        async function convertToInteractive(key) {\n",
              "          const element = document.querySelector('#df-50a018a4-42d0-4cd8-89d4-b7114d8e520a');\n",
              "          const dataTable =\n",
              "            await google.colab.kernel.invokeFunction('convertToInteractive',\n",
              "                                                     [key], {});\n",
              "          if (!dataTable) return;\n",
              "\n",
              "          const docLinkHtml = 'Like what you see? Visit the ' +\n",
              "            '<a target=\"_blank\" href=https://colab.research.google.com/notebooks/data_table.ipynb>data table notebook</a>'\n",
              "            + ' to learn more about interactive tables.';\n",
              "          element.innerHTML = '';\n",
              "          dataTable['output_type'] = 'display_data';\n",
              "          await google.colab.output.renderOutput(dataTable, element);\n",
              "          const docLink = document.createElement('div');\n",
              "          docLink.innerHTML = docLinkHtml;\n",
              "          element.appendChild(docLink);\n",
              "        }\n",
              "      </script>\n",
              "    </div>\n",
              "  </div>\n",
              "  "
            ],
            "text/plain": [
              "         town  tract  longitude   latitude  ...  tax    ptratio  lstat      cmedv\n",
              "0      Nahant   2011 -70.955002  42.255001  ...  296  15.300000   4.98  24.000000\n",
              "1  Swampscott   2021 -70.949997  42.287498  ...  242  17.799999   9.14  21.600000\n",
              "2  Swampscott   2022 -70.935997  42.283001  ...  242  17.799999   4.03  34.700001\n",
              "3  Marblehead   2031 -70.928001  42.292999  ...  222  18.700001   2.94  33.400002\n",
              "4  Marblehead   2032 -70.921997  42.298000  ...  222  18.700001   5.33  36.200001\n",
              "\n",
              "[5 rows x 17 columns]"
            ]
          },
          "metadata": {},
          "execution_count": 8
        }
      ]
    },
    {
      "cell_type": "code",
      "source": [
        "# Setting Features and Targets\n",
        "y = df['cmedv'].values\n",
        "x = df['rooms'].values\n",
        "\n",
        "#Creating Models and Scalars\n",
        "scaler = StandardScaler()\n",
        "\n",
        "tau = [0.01, 0.1, 1, 10]\n",
        "\n",
        "rf1 = RandomForestRegressor(n_estimators=10,max_depth=3)\n",
        "rf2 = RandomForestRegressor(n_estimators=50,max_depth=3)\n",
        "rf3 = RandomForestRegressor(n_estimators=100,max_depth=3)\n",
        "rf4 = RandomForestRegressor(n_estimators=300,max_depth=3)\n",
        "rfmodels = [rf1, rf1, rf3, rf4]\n",
        "trees = [10, 50, 100, 300]"
      ],
      "metadata": {
        "id": "mgIH6Fctslux"
      },
      "execution_count": null,
      "outputs": []
    },
    {
      "cell_type": "code",
      "execution_count": null,
      "metadata": {
        "id": "o5TQmielhaQf"
      },
      "outputs": [],
      "source": [
        "# K-Fold Cross Validation (Training and Predicting)\n",
        "mse_lwr = [[], [], [], []]\n",
        "mse_rf = [[], [], [], []]\n",
        "\n",
        "\n",
        "kf = KFold(n_splits=50,shuffle=True,random_state=410)\n",
        "for idxtrain,idxtest in kf.split(x):\n",
        "  ytrain = y[idxtrain]\n",
        "  xtrain = x[idxtrain]\n",
        "  xtrain = scaler.fit_transform(xtrain.reshape(-1,1))\n",
        "  ytest = y[idxtest]\n",
        "  xtest = x[idxtest]\n",
        "  xtest = scaler.transform(xtest.reshape(-1,1))\n",
        "\n",
        "  for i in range(len(tau)):\n",
        "    yhat_lwr = lowess_reg(xtrain.ravel(),ytrain,xtest.ravel(),tricubic,tau[i])\n",
        "    mse_lwr[i].append(mse(ytest,yhat_lwr))\n",
        "\n",
        "  for i in range(len(rfmodels)):\n",
        "    rfmodels[i].fit(xtrain,ytrain)\n",
        "    yhat_rf = rfmodels[i].predict(xtest)\n",
        "    mse_rf[i].append(mse(ytest,yhat_rf))\n"
      ]
    },
    {
      "cell_type": "markdown",
      "source": [
        "The results of the Locally Weighted Regression are posted below, followed by the results of the Random Forest Regressor. Both tables show the average MSE for each model over the 30 fold cross-validation."
      ],
      "metadata": {
        "id": "Gmz1GvBD0X5_"
      }
    },
    {
      "cell_type": "code",
      "source": [
        "lwr_dict = {'Tau':tau, 'Mean MSE':np.mean(mse_lwr, axis = 1)}\n",
        "lwr_df = pd.DataFrame(lwr_dict)\n",
        "lwr_df\n",
        "\n",
        "\n"
      ],
      "metadata": {
        "colab": {
          "base_uri": "https://localhost:8080/",
          "height": 175
        },
        "id": "FGwkgYltudS4",
        "outputId": "1556f3aa-4287-47ae-b3a0-41b576acd825"
      },
      "execution_count": null,
      "outputs": [
        {
          "output_type": "execute_result",
          "data": {
            "text/html": [
              "\n",
              "  <div id=\"df-80513b9e-42e6-4ec8-88d8-e4654ea60634\">\n",
              "    <div class=\"colab-df-container\">\n",
              "      <div>\n",
              "<style scoped>\n",
              "    .dataframe tbody tr th:only-of-type {\n",
              "        vertical-align: middle;\n",
              "    }\n",
              "\n",
              "    .dataframe tbody tr th {\n",
              "        vertical-align: top;\n",
              "    }\n",
              "\n",
              "    .dataframe thead th {\n",
              "        text-align: right;\n",
              "    }\n",
              "</style>\n",
              "<table border=\"1\" class=\"dataframe\">\n",
              "  <thead>\n",
              "    <tr style=\"text-align: right;\">\n",
              "      <th></th>\n",
              "      <th>Tau</th>\n",
              "      <th>Mean MSE</th>\n",
              "    </tr>\n",
              "  </thead>\n",
              "  <tbody>\n",
              "    <tr>\n",
              "      <th>0</th>\n",
              "      <td>0.01</td>\n",
              "      <td>44.004721</td>\n",
              "    </tr>\n",
              "    <tr>\n",
              "      <th>1</th>\n",
              "      <td>0.10</td>\n",
              "      <td>35.338893</td>\n",
              "    </tr>\n",
              "    <tr>\n",
              "      <th>2</th>\n",
              "      <td>1.00</td>\n",
              "      <td>37.099321</td>\n",
              "    </tr>\n",
              "    <tr>\n",
              "      <th>3</th>\n",
              "      <td>10.00</td>\n",
              "      <td>43.976500</td>\n",
              "    </tr>\n",
              "  </tbody>\n",
              "</table>\n",
              "</div>\n",
              "      <button class=\"colab-df-convert\" onclick=\"convertToInteractive('df-80513b9e-42e6-4ec8-88d8-e4654ea60634')\"\n",
              "              title=\"Convert this dataframe to an interactive table.\"\n",
              "              style=\"display:none;\">\n",
              "        \n",
              "  <svg xmlns=\"http://www.w3.org/2000/svg\" height=\"24px\"viewBox=\"0 0 24 24\"\n",
              "       width=\"24px\">\n",
              "    <path d=\"M0 0h24v24H0V0z\" fill=\"none\"/>\n",
              "    <path d=\"M18.56 5.44l.94 2.06.94-2.06 2.06-.94-2.06-.94-.94-2.06-.94 2.06-2.06.94zm-11 1L8.5 8.5l.94-2.06 2.06-.94-2.06-.94L8.5 2.5l-.94 2.06-2.06.94zm10 10l.94 2.06.94-2.06 2.06-.94-2.06-.94-.94-2.06-.94 2.06-2.06.94z\"/><path d=\"M17.41 7.96l-1.37-1.37c-.4-.4-.92-.59-1.43-.59-.52 0-1.04.2-1.43.59L10.3 9.45l-7.72 7.72c-.78.78-.78 2.05 0 2.83L4 21.41c.39.39.9.59 1.41.59.51 0 1.02-.2 1.41-.59l7.78-7.78 2.81-2.81c.8-.78.8-2.07 0-2.86zM5.41 20L4 18.59l7.72-7.72 1.47 1.35L5.41 20z\"/>\n",
              "  </svg>\n",
              "      </button>\n",
              "      \n",
              "  <style>\n",
              "    .colab-df-container {\n",
              "      display:flex;\n",
              "      flex-wrap:wrap;\n",
              "      gap: 12px;\n",
              "    }\n",
              "\n",
              "    .colab-df-convert {\n",
              "      background-color: #E8F0FE;\n",
              "      border: none;\n",
              "      border-radius: 50%;\n",
              "      cursor: pointer;\n",
              "      display: none;\n",
              "      fill: #1967D2;\n",
              "      height: 32px;\n",
              "      padding: 0 0 0 0;\n",
              "      width: 32px;\n",
              "    }\n",
              "\n",
              "    .colab-df-convert:hover {\n",
              "      background-color: #E2EBFA;\n",
              "      box-shadow: 0px 1px 2px rgba(60, 64, 67, 0.3), 0px 1px 3px 1px rgba(60, 64, 67, 0.15);\n",
              "      fill: #174EA6;\n",
              "    }\n",
              "\n",
              "    [theme=dark] .colab-df-convert {\n",
              "      background-color: #3B4455;\n",
              "      fill: #D2E3FC;\n",
              "    }\n",
              "\n",
              "    [theme=dark] .colab-df-convert:hover {\n",
              "      background-color: #434B5C;\n",
              "      box-shadow: 0px 1px 3px 1px rgba(0, 0, 0, 0.15);\n",
              "      filter: drop-shadow(0px 1px 2px rgba(0, 0, 0, 0.3));\n",
              "      fill: #FFFFFF;\n",
              "    }\n",
              "  </style>\n",
              "\n",
              "      <script>\n",
              "        const buttonEl =\n",
              "          document.querySelector('#df-80513b9e-42e6-4ec8-88d8-e4654ea60634 button.colab-df-convert');\n",
              "        buttonEl.style.display =\n",
              "          google.colab.kernel.accessAllowed ? 'block' : 'none';\n",
              "\n",
              "        async function convertToInteractive(key) {\n",
              "          const element = document.querySelector('#df-80513b9e-42e6-4ec8-88d8-e4654ea60634');\n",
              "          const dataTable =\n",
              "            await google.colab.kernel.invokeFunction('convertToInteractive',\n",
              "                                                     [key], {});\n",
              "          if (!dataTable) return;\n",
              "\n",
              "          const docLinkHtml = 'Like what you see? Visit the ' +\n",
              "            '<a target=\"_blank\" href=https://colab.research.google.com/notebooks/data_table.ipynb>data table notebook</a>'\n",
              "            + ' to learn more about interactive tables.';\n",
              "          element.innerHTML = '';\n",
              "          dataTable['output_type'] = 'display_data';\n",
              "          await google.colab.output.renderOutput(dataTable, element);\n",
              "          const docLink = document.createElement('div');\n",
              "          docLink.innerHTML = docLinkHtml;\n",
              "          element.appendChild(docLink);\n",
              "        }\n",
              "      </script>\n",
              "    </div>\n",
              "  </div>\n",
              "  "
            ],
            "text/plain": [
              "     Tau   Mean MSE\n",
              "0   0.01  44.004721\n",
              "1   0.10  35.338893\n",
              "2   1.00  37.099321\n",
              "3  10.00  43.976500"
            ]
          },
          "metadata": {},
          "execution_count": 12
        }
      ]
    },
    {
      "cell_type": "code",
      "source": [
        "rf_dict = {'# Trees':trees, 'Mean MSE':np.mean(mse_rf, axis = 1)}\n",
        "rf_df = pd.DataFrame(rf_dict)\n",
        "rf_df"
      ],
      "metadata": {
        "colab": {
          "base_uri": "https://localhost:8080/",
          "height": 175
        },
        "id": "nEWwi1buz8g-",
        "outputId": "9867a0ab-dd63-4f93-8aa4-e9498133ac50"
      },
      "execution_count": null,
      "outputs": [
        {
          "output_type": "execute_result",
          "data": {
            "text/html": [
              "\n",
              "  <div id=\"df-a05d42c8-3156-4963-aef6-08bf4737d166\">\n",
              "    <div class=\"colab-df-container\">\n",
              "      <div>\n",
              "<style scoped>\n",
              "    .dataframe tbody tr th:only-of-type {\n",
              "        vertical-align: middle;\n",
              "    }\n",
              "\n",
              "    .dataframe tbody tr th {\n",
              "        vertical-align: top;\n",
              "    }\n",
              "\n",
              "    .dataframe thead th {\n",
              "        text-align: right;\n",
              "    }\n",
              "</style>\n",
              "<table border=\"1\" class=\"dataframe\">\n",
              "  <thead>\n",
              "    <tr style=\"text-align: right;\">\n",
              "      <th></th>\n",
              "      <th># Trees</th>\n",
              "      <th>Mean MSE</th>\n",
              "    </tr>\n",
              "  </thead>\n",
              "  <tbody>\n",
              "    <tr>\n",
              "      <th>0</th>\n",
              "      <td>10</td>\n",
              "      <td>36.517983</td>\n",
              "    </tr>\n",
              "    <tr>\n",
              "      <th>1</th>\n",
              "      <td>50</td>\n",
              "      <td>35.725301</td>\n",
              "    </tr>\n",
              "    <tr>\n",
              "      <th>2</th>\n",
              "      <td>100</td>\n",
              "      <td>35.967733</td>\n",
              "    </tr>\n",
              "    <tr>\n",
              "      <th>3</th>\n",
              "      <td>300</td>\n",
              "      <td>35.930195</td>\n",
              "    </tr>\n",
              "  </tbody>\n",
              "</table>\n",
              "</div>\n",
              "      <button class=\"colab-df-convert\" onclick=\"convertToInteractive('df-a05d42c8-3156-4963-aef6-08bf4737d166')\"\n",
              "              title=\"Convert this dataframe to an interactive table.\"\n",
              "              style=\"display:none;\">\n",
              "        \n",
              "  <svg xmlns=\"http://www.w3.org/2000/svg\" height=\"24px\"viewBox=\"0 0 24 24\"\n",
              "       width=\"24px\">\n",
              "    <path d=\"M0 0h24v24H0V0z\" fill=\"none\"/>\n",
              "    <path d=\"M18.56 5.44l.94 2.06.94-2.06 2.06-.94-2.06-.94-.94-2.06-.94 2.06-2.06.94zm-11 1L8.5 8.5l.94-2.06 2.06-.94-2.06-.94L8.5 2.5l-.94 2.06-2.06.94zm10 10l.94 2.06.94-2.06 2.06-.94-2.06-.94-.94-2.06-.94 2.06-2.06.94z\"/><path d=\"M17.41 7.96l-1.37-1.37c-.4-.4-.92-.59-1.43-.59-.52 0-1.04.2-1.43.59L10.3 9.45l-7.72 7.72c-.78.78-.78 2.05 0 2.83L4 21.41c.39.39.9.59 1.41.59.51 0 1.02-.2 1.41-.59l7.78-7.78 2.81-2.81c.8-.78.8-2.07 0-2.86zM5.41 20L4 18.59l7.72-7.72 1.47 1.35L5.41 20z\"/>\n",
              "  </svg>\n",
              "      </button>\n",
              "      \n",
              "  <style>\n",
              "    .colab-df-container {\n",
              "      display:flex;\n",
              "      flex-wrap:wrap;\n",
              "      gap: 12px;\n",
              "    }\n",
              "\n",
              "    .colab-df-convert {\n",
              "      background-color: #E8F0FE;\n",
              "      border: none;\n",
              "      border-radius: 50%;\n",
              "      cursor: pointer;\n",
              "      display: none;\n",
              "      fill: #1967D2;\n",
              "      height: 32px;\n",
              "      padding: 0 0 0 0;\n",
              "      width: 32px;\n",
              "    }\n",
              "\n",
              "    .colab-df-convert:hover {\n",
              "      background-color: #E2EBFA;\n",
              "      box-shadow: 0px 1px 2px rgba(60, 64, 67, 0.3), 0px 1px 3px 1px rgba(60, 64, 67, 0.15);\n",
              "      fill: #174EA6;\n",
              "    }\n",
              "\n",
              "    [theme=dark] .colab-df-convert {\n",
              "      background-color: #3B4455;\n",
              "      fill: #D2E3FC;\n",
              "    }\n",
              "\n",
              "    [theme=dark] .colab-df-convert:hover {\n",
              "      background-color: #434B5C;\n",
              "      box-shadow: 0px 1px 3px 1px rgba(0, 0, 0, 0.15);\n",
              "      filter: drop-shadow(0px 1px 2px rgba(0, 0, 0, 0.3));\n",
              "      fill: #FFFFFF;\n",
              "    }\n",
              "  </style>\n",
              "\n",
              "      <script>\n",
              "        const buttonEl =\n",
              "          document.querySelector('#df-a05d42c8-3156-4963-aef6-08bf4737d166 button.colab-df-convert');\n",
              "        buttonEl.style.display =\n",
              "          google.colab.kernel.accessAllowed ? 'block' : 'none';\n",
              "\n",
              "        async function convertToInteractive(key) {\n",
              "          const element = document.querySelector('#df-a05d42c8-3156-4963-aef6-08bf4737d166');\n",
              "          const dataTable =\n",
              "            await google.colab.kernel.invokeFunction('convertToInteractive',\n",
              "                                                     [key], {});\n",
              "          if (!dataTable) return;\n",
              "\n",
              "          const docLinkHtml = 'Like what you see? Visit the ' +\n",
              "            '<a target=\"_blank\" href=https://colab.research.google.com/notebooks/data_table.ipynb>data table notebook</a>'\n",
              "            + ' to learn more about interactive tables.';\n",
              "          element.innerHTML = '';\n",
              "          dataTable['output_type'] = 'display_data';\n",
              "          await google.colab.output.renderOutput(dataTable, element);\n",
              "          const docLink = document.createElement('div');\n",
              "          docLink.innerHTML = docLinkHtml;\n",
              "          element.appendChild(docLink);\n",
              "        }\n",
              "      </script>\n",
              "    </div>\n",
              "  </div>\n",
              "  "
            ],
            "text/plain": [
              "   # Trees   Mean MSE\n",
              "0       10  36.517983\n",
              "1       50  35.725301\n",
              "2      100  35.967733\n",
              "3      300  35.930195"
            ]
          },
          "metadata": {},
          "execution_count": 13
        }
      ]
    },
    {
      "cell_type": "markdown",
      "source": [
        "## Results and Conclusions\n"
      ],
      "metadata": {
        "id": "mZneZBQh06ze"
      }
    },
    {
      "cell_type": "markdown",
      "source": [
        "In this experiment, we attempted to test the validity of Locally Weighted Regression by comparing the method to Random Forrest Regression using the Boston Housing Dataset. To perform a complete search, we tested Locally Weighted Regressor Models with $\\tau$ values of 0.01, 0.1, 1, 10 and Random Forest Regressor Models with 10, 50, 100, and 300 trees. Though there was some improvement between the 10 and 50 tree model, there was very little difference in the models. The 50 tree model performed the best, with a mean MSE of 35.72. Comparatively, adjustment of $\\tau$ in the Locally Weighted Regression models had a much greater effect on the final accuracies. Though only slightly, the best Locally Weighted Regression model, the $\\tau = 1$ model slightly edged out the best Random Forest Regression Model, with a MSE of 35.33. Because of the evident high dependence of MSE on the $\\tau$ value, it is likely the model can be further optimized. However, because further optimization of the Random Forest Regressor model is unlikely, and because a Locally Weighted Regression model outperformed the best Random Forest Regression Model, we have established that the Locally Weighted Regression model is a viable method of attempting nonlinear regression. \n",
        "\n",
        "Further work in testing the viablility of Locally Weighted Regression could involve testing the different possible kernels. Additionally, we should note that though we considered Random Forest Regression model size (in the form of number of trees), there are many other parameters that could be adjusted to possibly create a better model. In a professional setting, a much more intensive investigation of these options would be necessary to prove that we have the best possible model. "
      ],
      "metadata": {
        "id": "r9HAwoeR5-2N"
      }
    }
  ],
  "metadata": {
    "kernelspec": {
      "display_name": "Python 3",
      "language": "python",
      "name": "python3"
    },
    "language_info": {
      "codemirror_mode": {
        "name": "ipython",
        "version": 3
      },
      "file_extension": ".py",
      "mimetype": "text/x-python",
      "name": "python",
      "nbconvert_exporter": "python",
      "pygments_lexer": "ipython3",
      "version": "3.8.3"
    },
    "latex_envs": {
      "LaTeX_envs_menu_present": true,
      "autoclose": false,
      "autocomplete": true,
      "bibliofile": "biblio.bib",
      "cite_by": "apalike",
      "current_citInitial": 1,
      "eqLabelWithNumbers": true,
      "eqNumInitial": 1,
      "hotkeys": {
        "equation": "Ctrl-E",
        "itemize": "Ctrl-I"
      },
      "labels_anchors": false,
      "latex_user_defs": false,
      "report_style_numbering": false,
      "user_envs_cfg": false
    },
    "colab": {
      "name": "Boston Housing Locally Weighted Regression",
      "provenance": [],
      "include_colab_link": true
    }
  },
  "nbformat": 4,
  "nbformat_minor": 0
}